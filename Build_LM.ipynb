{
  "nbformat": 4,
  "nbformat_minor": 0,
  "metadata": {
    "colab": {
      "name": "Build_LM.ipynb",
      "provenance": [],
      "toc_visible": true,
      "authorship_tag": "ABX9TyNPP0jOMhBTf8YSzmwEzv+W",
      "include_colab_link": true
    },
    "kernelspec": {
      "name": "python3",
      "display_name": "Python 3"
    },
    "accelerator": "GPU"
  },
  "cells": [
    {
      "cell_type": "markdown",
      "metadata": {
        "id": "view-in-github",
        "colab_type": "text"
      },
      "source": [
        "<a href=\"https://colab.research.google.com/github/vladk17/DeepLearningExamples/blob/master/Build_LM.ipynb\" target=\"_parent\"><img src=\"https://colab.research.google.com/assets/colab-badge.svg\" alt=\"Open In Colab\"/></a>"
      ]
    },
    {
      "cell_type": "code",
      "metadata": {
        "id": "UBF98HSW6otY",
        "colab_type": "code",
        "colab": {}
      },
      "source": [
        "!git clone https://github.com/NVIDIA/NeMo.git"
      ],
      "execution_count": 0,
      "outputs": []
    },
    {
      "cell_type": "code",
      "metadata": {
        "id": "ugRBNe_i7TgT",
        "colab_type": "code",
        "colab": {}
      },
      "source": [
        "!pip install NeMo/."
      ],
      "execution_count": 0,
      "outputs": []
    },
    {
      "cell_type": "code",
      "metadata": {
        "id": "5N73teso7bHa",
        "colab_type": "code",
        "colab": {}
      },
      "source": [
        "cd NeMo/scripts/"
      ],
      "execution_count": 0,
      "outputs": []
    },
    {
      "cell_type": "code",
      "metadata": {
        "id": "xXUkrho_73YM",
        "colab_type": "code",
        "colab": {}
      },
      "source": [
        "!./install_decoders.sh"
      ],
      "execution_count": 0,
      "outputs": []
    },
    {
      "cell_type": "code",
      "metadata": {
        "id": "UWv5HSUWk3wo",
        "colab_type": "code",
        "colab": {}
      },
      "source": [
        "cp build_6-gram_OpenSLR_lm.sh build_4-gram_OpenSLR_lm.sh"
      ],
      "execution_count": 0,
      "outputs": []
    },
    {
      "cell_type": "code",
      "metadata": {
        "id": "PsLCTdALlCiO",
        "colab_type": "code",
        "colab": {}
      },
      "source": [
        "with open ('build_6-gram_OpenSLR_lm.sh', 'r') as fr:\n",
        "  n_gram_OpenSLR_lm_str = fr.read()\n",
        "\n",
        "print('\\n'.join(n_gram_OpenSLR_lm_str.split('\\n')[:-2]))"
      ],
      "execution_count": 0,
      "outputs": []
    },
    {
      "cell_type": "code",
      "metadata": {
        "id": "AtivScIAmWXz",
        "colab_type": "code",
        "colab": {}
      },
      "source": [
        "edited_str = 'python build_lm_text.py language_model/4-gram.txt --n 4'"
      ],
      "execution_count": 0,
      "outputs": []
    },
    {
      "cell_type": "code",
      "metadata": {
        "id": "I6j79GvQmj2f",
        "colab_type": "code",
        "colab": {}
      },
      "source": [
        "n_gram_OpenSLR_lm_str_out = '\\n'.join(n_gram_OpenSLR_lm_str.split('\\n')[:-2]) + '\\n' + edited_str + '\\n'\n",
        "print(n_gram_OpenSLR_lm_str_out)"
      ],
      "execution_count": 0,
      "outputs": []
    },
    {
      "cell_type": "code",
      "metadata": {
        "id": "16icJnJpnJ2V",
        "colab_type": "code",
        "colab": {}
      },
      "source": [
        "with open ('build_4-gram_OpenSLR_lm.sh', 'w') as fw:\n",
        "  fw.write(n_gram_OpenSLR_lm_str)"
      ],
      "execution_count": 0,
      "outputs": []
    },
    {
      "cell_type": "code",
      "metadata": {
        "id": "TFQRkiWW75pI",
        "colab_type": "code",
        "colab": {}
      },
      "source": [
        "!./build_4-gram_OpenSLR_lm.sh"
      ],
      "execution_count": 0,
      "outputs": []
    },
    {
      "cell_type": "code",
      "metadata": {
        "id": "3wLhLmww9MZT",
        "colab_type": "code",
        "colab": {}
      },
      "source": [
        ""
      ],
      "execution_count": 0,
      "outputs": []
    }
  ]
}